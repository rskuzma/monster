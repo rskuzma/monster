{
 "cells": [
  {
   "cell_type": "markdown",
   "metadata": {},
   "source": [
    "# Create LDA model of Monster.com Jobs\n",
    "- Richard Kuzma, 8SEP2020\n",
    "- Pulled 22,000 Monster.com jobs in a csv from kaggle"
   ]
  },
  {
   "cell_type": "markdown",
   "metadata": {},
   "source": [
    "#### Resources I used:\n",
    "- <a href=\"https://towardsdatascience.com/unsupervised-nlp-topic-models-as-a-supervised-learning-input-cf8ee9e5cf28\"> Using LDA Topic Models as a Classification Model Input </a> by Marc Kelechava. (<a href=\"https://github.com/marcmuon/nlp_yelp_review_unsupervised\"> GitHub </a>)\n"
   ]
  },
  {
   "cell_type": "markdown",
   "metadata": {},
   "source": [
    "## Imports"
   ]
  },
  {
   "cell_type": "code",
   "execution_count": 1,
   "metadata": {},
   "outputs": [],
   "source": [
    "### Imports\n",
    "\n",
    "# basic\n",
    "import time\n",
    "from pprint import pprint\n",
    "\n",
    "# data science\n",
    "import pandas as pd\n",
    "import pickle\n",
    "\n",
    "# NLP\n",
    "import gensim\n",
    "from gensim.models import CoherenceModel, LdaModel\n",
    "\n",
    "# plotting\n",
    "import pyLDAvis\n",
    "import pyLDAvis.gensim\n",
    "import matplotlib.pyplot as plt\n",
    "%matplotlib inline\n",
    "\n"
   ]
  },
  {
   "cell_type": "code",
   "execution_count": 2,
   "metadata": {},
   "outputs": [
    {
     "name": "stderr",
     "output_type": "stream",
     "text": [
      "/Users/richardkuzma/opt/anaconda3/lib/python3.7/site-packages/nltk/decorators.py:68: DeprecationWarning: `formatargspec` is deprecated since Python 3.5. Use `signature` and the `Signature` object directly\n",
      "  regargs, varargs, varkwargs, defaults, formatvalue=lambda value: \"\"\n",
      "/Users/richardkuzma/opt/anaconda3/lib/python3.7/site-packages/nltk/lm/counter.py:15: DeprecationWarning: Using or importing the ABCs from 'collections' instead of from 'collections.abc' is deprecated since Python 3.3,and in 3.9 it will stop working\n",
      "  from collections import Sequence, defaultdict\n",
      "[nltk_data] Downloading package wordnet to\n",
      "[nltk_data]     /Users/richardkuzma/nltk_data...\n",
      "[nltk_data]   Package wordnet is already up-to-date!\n",
      "[nltk_data] Downloading package averaged_perceptron_tagger to\n",
      "[nltk_data]     /Users/richardkuzma/nltk_data...\n",
      "[nltk_data]   Package averaged_perceptron_tagger is already up-to-\n",
      "[nltk_data]       date!\n"
     ]
    }
   ],
   "source": [
    "### Import preprocesss_helpers module\n",
    "import os\n",
    "import sys\n",
    "\n",
    "# add '/Users/richardkuzma/coding/analysis' to path\n",
    "# where /utils holds module preprocess_helpers    \n",
    "module_path = os.path.abspath(os.path.join('../..')) \n",
    "if module_path not in sys.path:\n",
    "    sys.path.append(module_path)\n",
    "\n",
    "import utils.preprocess_helpers as ph"
   ]
  },
  {
   "cell_type": "code",
   "execution_count": 3,
   "metadata": {},
   "outputs": [],
   "source": [
    "# Compute Perplexity\n",
    "def compute_perplexity(corpus, model):\n",
    "    \"\"\"corpus is your bow corpus for instance\"\"\"\n",
    "    \"\"\"a measure of how good the model is. lower the better\"\"\"\n",
    "    t0 = time.time()\n",
    "    print('perplexing...')\n",
    "    perplex = model.log_perplexity(corpus)\n",
    "    print('{} seconds'.format(time.time()-t0))\n",
    "    print('\\nPerplexity: ', perplex)\n",
    "    return perplex\n",
    "\n",
    "\n",
    "def compute_coherence(model, texts, dictionary, coherence):\n",
    "    \"\"\"Takes model, texts, dictionary. Prints and outputs coherence score\"\"\"\n",
    "    t0 = time.time()\n",
    "    print('making coherence model...')\n",
    "    coherence_model_lda = CoherenceModel(model=model, texts=texts, dictionary=dictionary, coherence=coherence)\n",
    "    print('{} seconds'.format(time.time()-t0))\n",
    "    t0 = time.time()\n",
    "    print('getting coherence...')\n",
    "    coherence_lda = coherence_model_lda.get_coherence()\n",
    "    print('{} seconds'.format(time.time()-t0))\n",
    "    print('\\nCoherence Score: ', coherence_lda)\n",
    "    return coherence_lda\n",
    "\n",
    "# Show graph\n",
    "def coherence_graph(rg, coherence_values):\n",
    "    plt.plot(rg, coherence_values, label = 'coherence')\n",
    "#     plt.xlim(0, 22)\n",
    "    plt.title(\"Coherence of LDA model\")\n",
    "    plt.xlabel(\"Num Topics\")\n",
    "    plt.ylabel(\"Coherence score\")\n",
    "    plt.legend((\"coherence_values\"), loc='best')\n",
    "    plt.show()\n",
    "    print('plotted.')\n",
    "    \n",
    "def perplexity_graph(rg, perplex_values):\n",
    "    plt.plot(rg, perplex_values, label = 'perplexity')\n",
    "#     plt.xlim(0, 22)\n",
    "    plt.title(\"Perplexity of LDA model\")\n",
    "    plt.xlabel(\"Num Topics\")\n",
    "    plt.ylabel(\"Perplexity score\")\n",
    "    plt.legend((\"perplex_values\"), loc='best')\n",
    "    plt.show()\n",
    "    print('plotted.')\n",
    "\n",
    "\n",
    "# Print the coherence scores\n",
    "def print_coherence_scores(rg, model_list, coherence_values):\n",
    "    for num, cv, m in zip(rg, coherence_values, model_list):\n",
    "        print(\"Num Topics = {} has Coherence Value of {} model specs: {}\".format(num, round(cv, 4), m))\n",
    "\n",
    "\n",
    "def visualize_lda(model, corpus, dictionary):\n",
    "    \"\"\"returns the pyLDAvis PreparedData given model, corpus, dictionary\"\"\"\n",
    "    \"\"\"Could pickle this to save it\"\"\"\n",
    "    \"\"\"pyLDAvis.save_html(vis, \"filename\") also works to export in html\"\"\"\n",
    "    pyLDAvis.enable_notebook()\n",
    "    t0 = time.time()\n",
    "    vis = pyLDAvis.gensim.prepare(model, corpus, dictionary)\n",
    "    print('{} seconds'.format(time.time()-t0))\n",
    "    return vis\n",
    "\n",
    "\n",
    "def compute_compare_c_v(dictionary, corpus, texts, rg=[2, 20, 6]):\n",
    "    \"\"\"\n",
    "    Compute and compare c_v coherence for various number of topics\n",
    "\n",
    "    Parameters:\n",
    "    ----------\n",
    "    dictionary : Gensim dictionary\n",
    "    corpus : Gensim corpus\n",
    "    texts : List of input texts\n",
    "    limit : Max num of topics\n",
    "\n",
    "    Returns:\n",
    "    -------\n",
    "    model_list : List of LDA topic models\n",
    "    coherence_values : Coherence values corresponding to the LDA model with respective number of topics\n",
    "    \"\"\"\n",
    "    coherence_values = []\n",
    "    perplex_values = []\n",
    "    model_list = []\n",
    "    print('range entered: {}'.format(rg))\n",
    "    for num_topics in rg:\n",
    "        print('num_topics: {}'.format(num_topics))\n",
    "\n",
    "        print('\\nmaking model with {} topics...'.format(num_topics))\n",
    "\n",
    "        model = LdaModel(corpus=corpus, num_topics=num_topics, id2word=dictionary)\n",
    "        print('model made: {}'.format(model))\n",
    "        print('old model_list: {}'.format(model_list))\n",
    "        model_list.append(model)\n",
    "        print('appended. model_list now: {}'.format(model_list))\n",
    "\n",
    "        print('\\nperplexity...')\n",
    "        p_score = compute_perplexity(corpus, model)\n",
    "        perplex_values.append(p_score)\n",
    "        print('appended perplexity')\n",
    "\n",
    "        print('\\ncoherence...')\n",
    "#         coherencemodel = CoherenceModel(model=model, texts=texts, dictionary=dictionary, coherence='c_v')\n",
    "        c_score = compute_coherence(model, texts, dictionary, 'c_v') # my coherence model line\n",
    "#         print('coherence: {}'.format(coherencemodel.get_coherence()))\n",
    "#         coherence_values.append(coherencemodel.get_coherence())\n",
    "        coherence_values.append(c_score)\n",
    "        print('appended coherence')\n",
    "\n",
    "\n",
    "    return model_list, coherence_values, perplex_values"
   ]
  },
  {
   "cell_type": "markdown",
   "metadata": {},
   "source": [
    "## Load Monster jobs to df"
   ]
  },
  {
   "cell_type": "code",
   "execution_count": 10,
   "metadata": {},
   "outputs": [],
   "source": [
    "path = '/Users/richardkuzma/coding/analysis/monster/data/cleaned/'\n",
    "filename = 'monster_jobs_df_small.pkl'\n",
    "\n",
    "with open(path+filename, 'rb') as f:\n",
    "    df = pickle.load(f)\n"
   ]
  },
  {
   "cell_type": "code",
   "execution_count": 11,
   "metadata": {},
   "outputs": [],
   "source": [
    "jobs_raw = df['job_description'].tolist()"
   ]
  },
  {
   "cell_type": "markdown",
   "metadata": {},
   "source": [
    "## Process job_description text, make dictionary and BOW corpus"
   ]
  },
  {
   "cell_type": "code",
   "execution_count": 13,
   "metadata": {},
   "outputs": [
    {
     "name": "stdout",
     "output_type": "stream",
     "text": [
      "lemmatizing...\n",
      "lemmatization complete\n",
      "941.2492010593414 seconds\n"
     ]
    }
   ],
   "source": [
    "# clean text into lemmatized lists of unigrams, bigrams, trigrams\n",
    "jobs_cleaned = ph.full_clean(jobs_raw)\n",
    "\n",
    "# create dictionary\n",
    "jobs_dict = ph.make_dict(jobs_cleaned)\n",
    "\n",
    "# filter extremes from dict\n",
    "jobs_dict.filter_extremes(no_below=20, no_above=0.5)\n",
    "jobs_dict.compactify() # remove IDs for removed words\n",
    "\n",
    "# make corpus\n",
    "jobs_corpus = ph.make_bow(jobs_cleaned, jobs_dict)"
   ]
  },
  {
   "cell_type": "markdown",
   "metadata": {},
   "source": [
    "## Save cleaned text, dictionary, corpus"
   ]
  },
  {
   "cell_type": "code",
   "execution_count": 15,
   "metadata": {},
   "outputs": [],
   "source": [
    "path = '/Users/richardkuzma/coding/analysis/monster/data/cleaned/'\n",
    "\n",
    "jobs_cleaned_filename = 'monster_jobs_cleaned_text.pkl'\n",
    "with open(path+jobs_cleaned_filename, 'wb') as f:\n",
    "    pickle.dump(jobs_cleaned, f)\n",
    "\n",
    "jobs_dict_filename = 'monster_jobs_dict.pkl'\n",
    "with open(path+jobs_dict_filename, 'wb') as f:\n",
    "    pickle.dump(jobs_dict, f)\n",
    "    \n",
    "jobs_corpus_filename = 'monster_jobs_corpus.pkl'\n",
    "with open(path+jobs_corpus_filename, 'wb') as f:\n",
    "    pickle.dump(jobs_corpus, f)\n",
    "\n"
   ]
  },
  {
   "cell_type": "markdown",
   "metadata": {},
   "source": [
    "## Choose best number of topics with HDP\n",
    "HDP says 20..."
   ]
  },
  {
   "cell_type": "code",
   "execution_count": 16,
   "metadata": {},
   "outputs": [],
   "source": [
    "from gensim.models import HdpModel\n",
    "hdp = HdpModel(jobs_corpus, jobs_dict, chunksize=100)\n",
    "len(hdp.print_topics())"
   ]
  },
  {
   "cell_type": "code",
   "execution_count": null,
   "metadata": {},
   "outputs": [],
   "source": []
  },
  {
   "cell_type": "markdown",
   "metadata": {},
   "source": [
    "## Choosing number of topics with perplexity / coherence"
   ]
  },
  {
   "cell_type": "code",
   "execution_count": 18,
   "metadata": {},
   "outputs": [
    {
     "name": "stdout",
     "output_type": "stream",
     "text": [
      "range entered: [10, 15, 20, 25, 30, 35, 40, 45, 50]\n",
      "num_topics: 10\n",
      "\n",
      "making model with 10 topics...\n",
      "model made: LdaModel(num_terms=9441, num_topics=10, decay=0.5, chunksize=2000)\n",
      "old model_list: []\n",
      "appended. model_list now: [<gensim.models.ldamodel.LdaModel object at 0x7fba2b205810>]\n",
      "\n",
      "perplexity...\n",
      "perplexing...\n",
      "37.54220390319824 seconds\n",
      "\n",
      "Perplexity:  -7.137424574309907\n",
      "appended perplexity\n",
      "\n",
      "coherence...\n",
      "making coherence model...\n",
      "0.003693819046020508 seconds\n",
      "getting coherence...\n",
      "105.36634373664856 seconds\n",
      "\n",
      "Coherence Score:  0.4319444122998094\n",
      "appended coherence\n",
      "num_topics: 15\n",
      "\n",
      "making model with 15 topics...\n",
      "model made: LdaModel(num_terms=9441, num_topics=15, decay=0.5, chunksize=2000)\n",
      "old model_list: [<gensim.models.ldamodel.LdaModel object at 0x7fba2b205810>]\n",
      "appended. model_list now: [<gensim.models.ldamodel.LdaModel object at 0x7fba2b205810>, <gensim.models.ldamodel.LdaModel object at 0x7fba2b33b510>]\n",
      "\n",
      "perplexity...\n",
      "perplexing...\n",
      "40.47723913192749 seconds\n",
      "\n",
      "Perplexity:  -7.262435814523401\n",
      "appended perplexity\n",
      "\n",
      "coherence...\n",
      "making coherence model...\n",
      "0.004096031188964844 seconds\n",
      "getting coherence...\n",
      "133.04020309448242 seconds\n",
      "\n",
      "Coherence Score:  0.43497476729058804\n",
      "appended coherence\n",
      "num_topics: 20\n",
      "\n",
      "making model with 20 topics...\n",
      "model made: LdaModel(num_terms=9441, num_topics=20, decay=0.5, chunksize=2000)\n",
      "old model_list: [<gensim.models.ldamodel.LdaModel object at 0x7fba2b205810>, <gensim.models.ldamodel.LdaModel object at 0x7fba2b33b510>]\n",
      "appended. model_list now: [<gensim.models.ldamodel.LdaModel object at 0x7fba2b205810>, <gensim.models.ldamodel.LdaModel object at 0x7fba2b33b510>, <gensim.models.ldamodel.LdaModel object at 0x7fba2b1be890>]\n",
      "\n",
      "perplexity...\n",
      "perplexing...\n",
      "41.05803179740906 seconds\n",
      "\n",
      "Perplexity:  -7.29577336655376\n",
      "appended perplexity\n",
      "\n",
      "coherence...\n",
      "making coherence model...\n",
      "0.004081249237060547 seconds\n",
      "getting coherence...\n",
      "149.5408980846405 seconds\n",
      "\n",
      "Coherence Score:  0.45676427861674707\n",
      "appended coherence\n",
      "num_topics: 25\n",
      "\n",
      "making model with 25 topics...\n",
      "model made: LdaModel(num_terms=9441, num_topics=25, decay=0.5, chunksize=2000)\n",
      "old model_list: [<gensim.models.ldamodel.LdaModel object at 0x7fba2b205810>, <gensim.models.ldamodel.LdaModel object at 0x7fba2b33b510>, <gensim.models.ldamodel.LdaModel object at 0x7fba2b1be890>]\n",
      "appended. model_list now: [<gensim.models.ldamodel.LdaModel object at 0x7fba2b205810>, <gensim.models.ldamodel.LdaModel object at 0x7fba2b33b510>, <gensim.models.ldamodel.LdaModel object at 0x7fba2b1be890>, <gensim.models.ldamodel.LdaModel object at 0x7fba2b396750>]\n",
      "\n",
      "perplexity...\n",
      "perplexing...\n",
      "41.21157908439636 seconds\n",
      "\n",
      "Perplexity:  -7.338961625838196\n",
      "appended perplexity\n",
      "\n",
      "coherence...\n",
      "making coherence model...\n",
      "0.005614042282104492 seconds\n",
      "getting coherence...\n",
      "203.09474301338196 seconds\n",
      "\n",
      "Coherence Score:  0.4503930881732514\n",
      "appended coherence\n",
      "num_topics: 30\n",
      "\n",
      "making model with 30 topics...\n",
      "model made: LdaModel(num_terms=9441, num_topics=30, decay=0.5, chunksize=2000)\n",
      "old model_list: [<gensim.models.ldamodel.LdaModel object at 0x7fba2b205810>, <gensim.models.ldamodel.LdaModel object at 0x7fba2b33b510>, <gensim.models.ldamodel.LdaModel object at 0x7fba2b1be890>, <gensim.models.ldamodel.LdaModel object at 0x7fba2b396750>]\n",
      "appended. model_list now: [<gensim.models.ldamodel.LdaModel object at 0x7fba2b205810>, <gensim.models.ldamodel.LdaModel object at 0x7fba2b33b510>, <gensim.models.ldamodel.LdaModel object at 0x7fba2b1be890>, <gensim.models.ldamodel.LdaModel object at 0x7fba2b396750>, <gensim.models.ldamodel.LdaModel object at 0x7fba2b228cd0>]\n",
      "\n",
      "perplexity...\n",
      "perplexing...\n",
      "47.085047006607056 seconds\n",
      "\n",
      "Perplexity:  -7.390738103953693\n",
      "appended perplexity\n",
      "\n",
      "coherence...\n",
      "making coherence model...\n",
      "0.004992008209228516 seconds\n",
      "getting coherence...\n",
      "223.15452408790588 seconds\n",
      "\n",
      "Coherence Score:  0.4596995536571995\n",
      "appended coherence\n",
      "num_topics: 35\n",
      "\n",
      "making model with 35 topics...\n",
      "model made: LdaModel(num_terms=9441, num_topics=35, decay=0.5, chunksize=2000)\n",
      "old model_list: [<gensim.models.ldamodel.LdaModel object at 0x7fba2b205810>, <gensim.models.ldamodel.LdaModel object at 0x7fba2b33b510>, <gensim.models.ldamodel.LdaModel object at 0x7fba2b1be890>, <gensim.models.ldamodel.LdaModel object at 0x7fba2b396750>, <gensim.models.ldamodel.LdaModel object at 0x7fba2b228cd0>]\n",
      "appended. model_list now: [<gensim.models.ldamodel.LdaModel object at 0x7fba2b205810>, <gensim.models.ldamodel.LdaModel object at 0x7fba2b33b510>, <gensim.models.ldamodel.LdaModel object at 0x7fba2b1be890>, <gensim.models.ldamodel.LdaModel object at 0x7fba2b396750>, <gensim.models.ldamodel.LdaModel object at 0x7fba2b228cd0>, <gensim.models.ldamodel.LdaModel object at 0x7fba2b37cd90>]\n",
      "\n",
      "perplexity...\n",
      "perplexing...\n",
      "48.080543994903564 seconds\n",
      "\n",
      "Perplexity:  -7.445171118704983\n",
      "appended perplexity\n",
      "\n",
      "coherence...\n",
      "making coherence model...\n",
      "0.006651878356933594 seconds\n",
      "getting coherence...\n",
      "274.4422731399536 seconds\n",
      "\n",
      "Coherence Score:  0.45061473053082324\n",
      "appended coherence\n",
      "num_topics: 40\n",
      "\n",
      "making model with 40 topics...\n",
      "model made: LdaModel(num_terms=9441, num_topics=40, decay=0.5, chunksize=2000)\n",
      "old model_list: [<gensim.models.ldamodel.LdaModel object at 0x7fba2b205810>, <gensim.models.ldamodel.LdaModel object at 0x7fba2b33b510>, <gensim.models.ldamodel.LdaModel object at 0x7fba2b1be890>, <gensim.models.ldamodel.LdaModel object at 0x7fba2b396750>, <gensim.models.ldamodel.LdaModel object at 0x7fba2b228cd0>, <gensim.models.ldamodel.LdaModel object at 0x7fba2b37cd90>]\n",
      "appended. model_list now: [<gensim.models.ldamodel.LdaModel object at 0x7fba2b205810>, <gensim.models.ldamodel.LdaModel object at 0x7fba2b33b510>, <gensim.models.ldamodel.LdaModel object at 0x7fba2b1be890>, <gensim.models.ldamodel.LdaModel object at 0x7fba2b396750>, <gensim.models.ldamodel.LdaModel object at 0x7fba2b228cd0>, <gensim.models.ldamodel.LdaModel object at 0x7fba2b37cd90>, <gensim.models.ldamodel.LdaModel object at 0x7fba2b23b610>]\n",
      "\n",
      "perplexity...\n",
      "perplexing...\n",
      "62.714784145355225 seconds\n",
      "\n",
      "Perplexity:  -7.50504603056342\n",
      "appended perplexity\n",
      "\n",
      "coherence...\n",
      "making coherence model...\n",
      "0.007831096649169922 seconds\n",
      "getting coherence...\n",
      "326.688273191452 seconds\n",
      "\n",
      "Coherence Score:  0.4761139930886699\n",
      "appended coherence\n",
      "num_topics: 45\n",
      "\n",
      "making model with 45 topics...\n",
      "model made: LdaModel(num_terms=9441, num_topics=45, decay=0.5, chunksize=2000)\n",
      "old model_list: [<gensim.models.ldamodel.LdaModel object at 0x7fba2b205810>, <gensim.models.ldamodel.LdaModel object at 0x7fba2b33b510>, <gensim.models.ldamodel.LdaModel object at 0x7fba2b1be890>, <gensim.models.ldamodel.LdaModel object at 0x7fba2b396750>, <gensim.models.ldamodel.LdaModel object at 0x7fba2b228cd0>, <gensim.models.ldamodel.LdaModel object at 0x7fba2b37cd90>, <gensim.models.ldamodel.LdaModel object at 0x7fba2b23b610>]\n",
      "appended. model_list now: [<gensim.models.ldamodel.LdaModel object at 0x7fba2b205810>, <gensim.models.ldamodel.LdaModel object at 0x7fba2b33b510>, <gensim.models.ldamodel.LdaModel object at 0x7fba2b1be890>, <gensim.models.ldamodel.LdaModel object at 0x7fba2b396750>, <gensim.models.ldamodel.LdaModel object at 0x7fba2b228cd0>, <gensim.models.ldamodel.LdaModel object at 0x7fba2b37cd90>, <gensim.models.ldamodel.LdaModel object at 0x7fba2b23b610>, <gensim.models.ldamodel.LdaModel object at 0x7fba2b362c90>]\n",
      "\n",
      "perplexity...\n",
      "perplexing...\n",
      "54.53058362007141 seconds\n",
      "\n",
      "Perplexity:  -7.583116248143664\n",
      "appended perplexity\n",
      "\n",
      "coherence...\n",
      "making coherence model...\n",
      "0.008202791213989258 seconds\n",
      "getting coherence...\n",
      "292.7491431236267 seconds\n",
      "\n",
      "Coherence Score:  0.4616020782029181\n",
      "appended coherence\n",
      "num_topics: 50\n",
      "\n",
      "making model with 50 topics...\n",
      "model made: LdaModel(num_terms=9441, num_topics=50, decay=0.5, chunksize=2000)\n",
      "old model_list: [<gensim.models.ldamodel.LdaModel object at 0x7fba2b205810>, <gensim.models.ldamodel.LdaModel object at 0x7fba2b33b510>, <gensim.models.ldamodel.LdaModel object at 0x7fba2b1be890>, <gensim.models.ldamodel.LdaModel object at 0x7fba2b396750>, <gensim.models.ldamodel.LdaModel object at 0x7fba2b228cd0>, <gensim.models.ldamodel.LdaModel object at 0x7fba2b37cd90>, <gensim.models.ldamodel.LdaModel object at 0x7fba2b23b610>, <gensim.models.ldamodel.LdaModel object at 0x7fba2b362c90>]\n",
      "appended. model_list now: [<gensim.models.ldamodel.LdaModel object at 0x7fba2b205810>, <gensim.models.ldamodel.LdaModel object at 0x7fba2b33b510>, <gensim.models.ldamodel.LdaModel object at 0x7fba2b1be890>, <gensim.models.ldamodel.LdaModel object at 0x7fba2b396750>, <gensim.models.ldamodel.LdaModel object at 0x7fba2b228cd0>, <gensim.models.ldamodel.LdaModel object at 0x7fba2b37cd90>, <gensim.models.ldamodel.LdaModel object at 0x7fba2b23b610>, <gensim.models.ldamodel.LdaModel object at 0x7fba2b362c90>, <gensim.models.ldamodel.LdaModel object at 0x7fba2b21f3d0>]\n",
      "\n",
      "perplexity...\n",
      "perplexing...\n"
     ]
    },
    {
     "name": "stdout",
     "output_type": "stream",
     "text": [
      "58.941691875457764 seconds\n",
      "\n",
      "Perplexity:  -7.6298817555321055\n",
      "appended perplexity\n",
      "\n",
      "coherence...\n",
      "making coherence model...\n",
      "0.010699987411499023 seconds\n",
      "getting coherence...\n",
      "324.10479402542114 seconds\n",
      "\n",
      "Coherence Score:  0.47191866213735323\n",
      "appended coherence\n"
     ]
    }
   ],
   "source": [
    "rg = list(range(10, 51, 5))\n",
    "model_list, coherence_values, perplex_values = compute_compare_c_v(dictionary=jobs_dict, corpus=jobs_corpus, texts=jobs_cleaned,  rg=rg)"
   ]
  },
  {
   "cell_type": "code",
   "execution_count": 19,
   "metadata": {},
   "outputs": [
    {
     "data": {
      "image/png": "[encoded data removed]",
      "text/plain": [
       "<Figure size 432x288 with 1 Axes>"
      ]
     },
     "metadata": {
      "needs_background": "light"
     },
     "output_type": "display_data"
    },
    {
     "name": "stdout",
     "output_type": "stream",
     "text": [
      "plotted.\n"
     ]
    }
   ],
   "source": [
    "coherence_graph(rg, coherence_values)"
   ]
  },
  {
   "cell_type": "code",
   "execution_count": 20,
   "metadata": {},
   "outputs": [
    {
     "data": {
      "image/png": "[encoded data removed]",
      "text/plain": [
       "<Figure size 432x288 with 1 Axes>"
      ]
     },
     "metadata": {
      "needs_background": "light"
     },
     "output_type": "display_data"
    },
    {
     "name": "stdout",
     "output_type": "stream",
     "text": [
      "plotted.\n"
     ]
    }
   ],
   "source": [
    "perplexity_graph(rg, perplex_values)"
   ]
  },
  {
   "cell_type": "code",
   "execution_count": 21,
   "metadata": {},
   "outputs": [
    {
     "name": "stdout",
     "output_type": "stream",
     "text": [
      "range entered: [60, 70, 80, 90, 100]\n",
      "num_topics: 60\n",
      "\n",
      "making model with 60 topics...\n",
      "model made: LdaModel(num_terms=9441, num_topics=60, decay=0.5, chunksize=2000)\n",
      "old model_list: []\n",
      "appended. model_list now: [<gensim.models.ldamodel.LdaModel object at 0x7fba2b2f8fd0>]\n",
      "\n",
      "perplexity...\n",
      "perplexing...\n",
      "61.85459613800049 seconds\n",
      "\n",
      "Perplexity:  -7.773173047890227\n",
      "appended perplexity\n",
      "\n",
      "coherence...\n",
      "making coherence model...\n",
      "0.01002192497253418 seconds\n",
      "getting coherence...\n",
      "400.07529520988464 seconds\n",
      "\n",
      "Coherence Score:  0.4514407729412135\n",
      "appended coherence\n",
      "num_topics: 70\n",
      "\n",
      "making model with 70 topics...\n",
      "model made: LdaModel(num_terms=9441, num_topics=70, decay=0.5, chunksize=2000)\n",
      "old model_list: [<gensim.models.ldamodel.LdaModel object at 0x7fba2b2f8fd0>]\n",
      "appended. model_list now: [<gensim.models.ldamodel.LdaModel object at 0x7fba2b2f8fd0>, <gensim.models.ldamodel.LdaModel object at 0x7fba2b34c590>]\n",
      "\n",
      "perplexity...\n",
      "perplexing...\n",
      "71.80747985839844 seconds\n",
      "\n",
      "Perplexity:  -7.9204269462569075\n",
      "appended perplexity\n",
      "\n",
      "coherence...\n",
      "making coherence model...\n",
      "0.011890888214111328 seconds\n",
      "getting coherence...\n",
      "386.6296401023865 seconds\n",
      "\n",
      "Coherence Score:  0.4468074900432019\n",
      "appended coherence\n",
      "num_topics: 80\n",
      "\n",
      "making model with 80 topics...\n",
      "model made: LdaModel(num_terms=9441, num_topics=80, decay=0.5, chunksize=2000)\n",
      "old model_list: [<gensim.models.ldamodel.LdaModel object at 0x7fba2b2f8fd0>, <gensim.models.ldamodel.LdaModel object at 0x7fba2b34c590>]\n",
      "appended. model_list now: [<gensim.models.ldamodel.LdaModel object at 0x7fba2b2f8fd0>, <gensim.models.ldamodel.LdaModel object at 0x7fba2b34c590>, <gensim.models.ldamodel.LdaModel object at 0x7fba2b2822d0>]\n",
      "\n",
      "perplexity...\n",
      "perplexing...\n",
      "92.57844400405884 seconds\n",
      "\n",
      "Perplexity:  -8.036359320350192\n",
      "appended perplexity\n",
      "\n",
      "coherence...\n",
      "making coherence model...\n",
      "0.017849206924438477 seconds\n",
      "getting coherence...\n",
      "427.107399225235 seconds\n",
      "\n",
      "Coherence Score:  0.4620123886171289\n",
      "appended coherence\n",
      "num_topics: 90\n",
      "\n",
      "making model with 90 topics...\n",
      "model made: LdaModel(num_terms=9441, num_topics=90, decay=0.5, chunksize=2000)\n",
      "old model_list: [<gensim.models.ldamodel.LdaModel object at 0x7fba2b2f8fd0>, <gensim.models.ldamodel.LdaModel object at 0x7fba2b34c590>, <gensim.models.ldamodel.LdaModel object at 0x7fba2b2822d0>]\n",
      "appended. model_list now: [<gensim.models.ldamodel.LdaModel object at 0x7fba2b2f8fd0>, <gensim.models.ldamodel.LdaModel object at 0x7fba2b34c590>, <gensim.models.ldamodel.LdaModel object at 0x7fba2b2822d0>, <gensim.models.ldamodel.LdaModel object at 0x7fba2b34bb10>]\n",
      "\n",
      "perplexity...\n",
      "perplexing...\n",
      "117.81958413124084 seconds\n",
      "\n",
      "Perplexity:  -8.163078887280552\n",
      "appended perplexity\n",
      "\n",
      "coherence...\n",
      "making coherence model...\n",
      "0.015614032745361328 seconds\n",
      "getting coherence...\n",
      "500.7395851612091 seconds\n",
      "\n",
      "Coherence Score:  0.4612845277602373\n",
      "appended coherence\n",
      "num_topics: 100\n",
      "\n",
      "making model with 100 topics...\n",
      "model made: LdaModel(num_terms=9441, num_topics=100, decay=0.5, chunksize=2000)\n",
      "old model_list: [<gensim.models.ldamodel.LdaModel object at 0x7fba2b2f8fd0>, <gensim.models.ldamodel.LdaModel object at 0x7fba2b34c590>, <gensim.models.ldamodel.LdaModel object at 0x7fba2b2822d0>, <gensim.models.ldamodel.LdaModel object at 0x7fba2b34bb10>]\n",
      "appended. model_list now: [<gensim.models.ldamodel.LdaModel object at 0x7fba2b2f8fd0>, <gensim.models.ldamodel.LdaModel object at 0x7fba2b34c590>, <gensim.models.ldamodel.LdaModel object at 0x7fba2b2822d0>, <gensim.models.ldamodel.LdaModel object at 0x7fba2b34bb10>, <gensim.models.ldamodel.LdaModel object at 0x7fba2b251210>]\n",
      "\n",
      "perplexity...\n",
      "perplexing...\n",
      "72.50901699066162 seconds\n",
      "\n",
      "Perplexity:  -8.320657360555696\n",
      "appended perplexity\n",
      "\n",
      "coherence...\n",
      "making coherence model...\n",
      "0.017015933990478516 seconds\n",
      "getting coherence...\n",
      "503.58579993247986 seconds\n",
      "\n",
      "Coherence Score:  0.4395108417858205\n",
      "appended coherence\n"
     ]
    }
   ],
   "source": [
    "rg2 = list(range(60, 101, 10))\n",
    "model_list2, coherence_values2, perplex_values2 = compute_compare_c_v(dictionary=jobs_dict, corpus=jobs_corpus, texts=jobs_cleaned,  rg=rg2)\n",
    "\n"
   ]
  },
  {
   "cell_type": "code",
   "execution_count": 22,
   "metadata": {},
   "outputs": [
    {
     "data": {
      "image/png": "[encoded data removed]",
      "text/plain": [
       "<Figure size 432x288 with 1 Axes>"
      ]
     },
     "metadata": {
      "needs_background": "light"
     },
     "output_type": "display_data"
    },
    {
     "name": "stdout",
     "output_type": "stream",
     "text": [
      "plotted.\n"
     ]
    }
   ],
   "source": [
    "coherence_graph(rg2, coherence_values2)"
   ]
  },
  {
   "cell_type": "code",
   "execution_count": 23,
   "metadata": {},
   "outputs": [
    {
     "data": {
      "image/png": "[encoded data removed]",
      "text/plain": [
       "<Figure size 432x288 with 1 Axes>"
      ]
     },
     "metadata": {
      "needs_background": "light"
     },
     "output_type": "display_data"
    },
    {
     "name": "stdout",
     "output_type": "stream",
     "text": [
      "plotted.\n"
     ]
    }
   ],
   "source": [
    "perplexity_graph(rg2, perplex_values2)"
   ]
  },
  {
   "cell_type": "code",
   "execution_count": 24,
   "metadata": {
    "scrolled": true
   },
   "outputs": [
    {
     "name": "stdout",
     "output_type": "stream",
     "text": [
      "range entered: [2, 4, 6, 8]\n",
      "num_topics: 2\n",
      "\n",
      "making model with 2 topics...\n",
      "model made: LdaModel(num_terms=9441, num_topics=2, decay=0.5, chunksize=2000)\n",
      "old model_list: []\n",
      "appended. model_list now: [<gensim.models.ldamodel.LdaModel object at 0x7fba2b39b050>]\n",
      "\n",
      "perplexity...\n",
      "perplexing...\n",
      "34.28424382209778 seconds\n",
      "\n",
      "Perplexity:  -7.353080298860728\n",
      "appended perplexity\n",
      "\n",
      "coherence...\n",
      "making coherence model...\n",
      "0.0011889934539794922 seconds\n",
      "getting coherence...\n",
      "39.36594200134277 seconds\n",
      "\n",
      "Coherence Score:  0.31991440618975026\n",
      "appended coherence\n",
      "num_topics: 4\n",
      "\n",
      "making model with 4 topics...\n",
      "model made: LdaModel(num_terms=9441, num_topics=4, decay=0.5, chunksize=2000)\n",
      "old model_list: [<gensim.models.ldamodel.LdaModel object at 0x7fba2b39b050>]\n",
      "appended. model_list now: [<gensim.models.ldamodel.LdaModel object at 0x7fba2b39b050>, <gensim.models.ldamodel.LdaModel object at 0x7fba2b68cd50>]\n",
      "\n",
      "perplexity...\n",
      "perplexing...\n",
      "35.70252704620361 seconds\n",
      "\n",
      "Perplexity:  -7.2500859851675585\n",
      "appended perplexity\n",
      "\n",
      "coherence...\n",
      "making coherence model...\n",
      "0.0019140243530273438 seconds\n",
      "getting coherence...\n",
      "52.77734589576721 seconds\n",
      "\n",
      "Coherence Score:  0.3640274743203482\n",
      "appended coherence\n",
      "num_topics: 6\n",
      "\n",
      "making model with 6 topics...\n",
      "model made: LdaModel(num_terms=9441, num_topics=6, decay=0.5, chunksize=2000)\n",
      "old model_list: [<gensim.models.ldamodel.LdaModel object at 0x7fba2b39b050>, <gensim.models.ldamodel.LdaModel object at 0x7fba2b68cd50>]\n",
      "appended. model_list now: [<gensim.models.ldamodel.LdaModel object at 0x7fba2b39b050>, <gensim.models.ldamodel.LdaModel object at 0x7fba2b68cd50>, <gensim.models.ldamodel.LdaModel object at 0x7fba2b765c50>]\n",
      "\n",
      "perplexity...\n",
      "perplexing...\n",
      "35.65895915031433 seconds\n",
      "\n",
      "Perplexity:  -7.189505216938566\n",
      "appended perplexity\n",
      "\n",
      "coherence...\n",
      "making coherence model...\n",
      "0.002382040023803711 seconds\n",
      "getting coherence...\n",
      "64.0841908454895 seconds\n",
      "\n",
      "Coherence Score:  0.36272370915465696\n",
      "appended coherence\n",
      "num_topics: 8\n",
      "\n",
      "making model with 8 topics...\n",
      "model made: LdaModel(num_terms=9441, num_topics=8, decay=0.5, chunksize=2000)\n",
      "old model_list: [<gensim.models.ldamodel.LdaModel object at 0x7fba2b39b050>, <gensim.models.ldamodel.LdaModel object at 0x7fba2b68cd50>, <gensim.models.ldamodel.LdaModel object at 0x7fba2b765c50>]\n",
      "appended. model_list now: [<gensim.models.ldamodel.LdaModel object at 0x7fba2b39b050>, <gensim.models.ldamodel.LdaModel object at 0x7fba2b68cd50>, <gensim.models.ldamodel.LdaModel object at 0x7fba2b765c50>, <gensim.models.ldamodel.LdaModel object at 0x7fba2b65de10>]\n",
      "\n",
      "perplexity...\n",
      "perplexing...\n",
      "36.141028881073 seconds\n",
      "\n",
      "Perplexity:  -7.133448350948939\n",
      "appended perplexity\n",
      "\n",
      "coherence...\n",
      "making coherence model...\n",
      "0.002897977828979492 seconds\n",
      "getting coherence...\n",
      "77.58764290809631 seconds\n",
      "\n",
      "Coherence Score:  0.4138067991472481\n",
      "appended coherence\n"
     ]
    }
   ],
   "source": [
    "rg3 = list(range(2, 10, 2))\n",
    "model_list3, coherence_values3, perplex_values3 = compute_compare_c_v(dictionary=jobs_dict, corpus=jobs_corpus, texts=jobs_cleaned,  rg=rg3)\n",
    "\n"
   ]
  },
  {
   "cell_type": "code",
   "execution_count": 25,
   "metadata": {},
   "outputs": [
    {
     "data": {
      "image/png": "[encoded data removed]",
      "text/plain": [
       "<Figure size 432x288 with 1 Axes>"
      ]
     },
     "metadata": {
      "needs_background": "light"
     },
     "output_type": "display_data"
    },
    {
     "name": "stdout",
     "output_type": "stream",
     "text": [
      "plotted.\n"
     ]
    }
   ],
   "source": [
    "coherence_graph(rg3, coherence_values3)"
   ]
  },
  {
   "cell_type": "code",
   "execution_count": 26,
   "metadata": {},
   "outputs": [
    {
     "data": {
      "image/png": "[encoded data removed]",
      "text/plain": [
       "<Figure size 432x288 with 1 Axes>"
      ]
     },
     "metadata": {
      "needs_background": "light"
     },
     "output_type": "display_data"
    },
    {
     "name": "stdout",
     "output_type": "stream",
     "text": [
      "plotted.\n"
     ]
    }
   ],
   "source": [
    "perplexity_graph(rg3, perplex_values3)"
   ]
  },
  {
   "cell_type": "markdown",
   "metadata": {},
   "source": [
    "### Merge models, coherence, perplexity lists"
   ]
  },
  {
   "cell_type": "code",
   "execution_count": 73,
   "metadata": {},
   "outputs": [],
   "source": [
    "all_models_list = model_list3 + model_list + model_list2\n",
    "all_coherence_values = coherence_values3 + coherence_values + coherence_values2\n",
    "all_perplex_values =  perplex_values3 + perplex_values + perplex_values2\n",
    "all_rg = rg3 + rg + rg2"
   ]
  },
  {
   "cell_type": "code",
   "execution_count": 83,
   "metadata": {},
   "outputs": [
    {
     "data": {
      "image/png": "[encoded data removed]",
      "text/plain": [
       "<Figure size 432x288 with 1 Axes>"
      ]
     },
     "metadata": {
      "needs_background": "light"
     },
     "output_type": "display_data"
    },
    {
     "name": "stdout",
     "output_type": "stream",
     "text": [
      "plotted.\n"
     ]
    }
   ],
   "source": [
    "coherence_graph(all_rg, all_coherence_values)"
   ]
  },
  {
   "cell_type": "code",
   "execution_count": 85,
   "metadata": {},
   "outputs": [
    {
     "data": {
      "text/plain": [
       "<Figure size 432x288 with 0 Axes>"
      ]
     },
     "metadata": {},
     "output_type": "display_data"
    }
   ],
   "source": [
    "path = '/Users/richardkuzma/coding/analysis/monster/plots/'\n",
    "plt.savefig(path+'monster_jobs_coherence.png')"
   ]
  },
  {
   "cell_type": "code",
   "execution_count": 86,
   "metadata": {},
   "outputs": [
    {
     "data": {
      "image/png": "[encoded data removed]",
      "text/plain": [
       "<Figure size 432x288 with 1 Axes>"
      ]
     },
     "metadata": {
      "needs_background": "light"
     },
     "output_type": "display_data"
    },
    {
     "name": "stdout",
     "output_type": "stream",
     "text": [
      "plotted.\n"
     ]
    }
   ],
   "source": [
    "perplexity_graph(all_rg, all_perplex_values)"
   ]
  },
  {
   "cell_type": "code",
   "execution_count": 87,
   "metadata": {},
   "outputs": [
    {
     "data": {
      "text/plain": [
       "<Figure size 432x288 with 0 Axes>"
      ]
     },
     "metadata": {},
     "output_type": "display_data"
    }
   ],
   "source": [
    "path = '/Users/richardkuzma/coding/analysis/monster/plots/'\n",
    "plt.savefig(path+'monster_jobs_LDA_perplexity.png')"
   ]
  },
  {
   "cell_type": "code",
   "execution_count": 79,
   "metadata": {},
   "outputs": [
    {
     "name": "stdout",
     "output_type": "stream",
     "text": [
      "[0.31991440618975026,\n",
      " 0.3640274743203482,\n",
      " 0.36272370915465696,\n",
      " 0.4138067991472481,\n",
      " 0.4319444122998094,\n",
      " 0.43497476729058804,\n",
      " 0.45676427861674707,\n",
      " 0.4503930881732514,\n",
      " 0.4596995536571995,\n",
      " 0.45061473053082324,\n",
      " 0.4761139930886699,\n",
      " 0.4616020782029181,\n",
      " 0.47191866213735323,\n",
      " 0.4514407729412135,\n",
      " 0.4468074900432019,\n",
      " 0.4620123886171289,\n",
      " 0.4612845277602373,\n",
      " 0.4395108417858205]\n"
     ]
    }
   ],
   "source": [
    "pprint(all_coherence_values)"
   ]
  },
  {
   "cell_type": "markdown",
   "metadata": {},
   "source": [
    "### Pick best models (coherence)\n",
    "- 40 topics has coherence of 0.4761\n",
    "- 50 topics has coherence of 0.4719\n",
    "- 90 topics has coherence of 0.4613  <em>(maybe better to have 2x more topics with only minimal drop in coherence?)</em>\n",
    "\n",
    "Will save both the 40 topics and 90 topic versions"
   ]
  },
  {
   "cell_type": "code",
   "execution_count": 78,
   "metadata": {},
   "outputs": [
    {
     "name": "stdout",
     "output_type": "stream",
     "text": [
      "Best coherence model\n",
      "0.4761139930886699\n",
      "10\n",
      "LdaModel(num_terms=9441, num_topics=40, decay=0.5, chunksize=2000)\n",
      "40\n"
     ]
    }
   ],
   "source": [
    "# pick the best\n",
    "print('Best coherence model')\n",
    "best_coherence_value = max(all_coherence_values, key=abs)\n",
    "best_coherence_index = all_coherence_values.index(best_coherence_value)\n",
    "best_coherence_model = all_models_list[best_coherence_index]\n",
    "best_coherence_num_topics = best_coherence_model.num_topics\n",
    "\n",
    "print(best_coherence_value)\n",
    "print(best_coherence_index)\n",
    "print(best_coherence_model)\n",
    "print(best_coherence_num_topics)"
   ]
  },
  {
   "cell_type": "code",
   "execution_count": 97,
   "metadata": {},
   "outputs": [
    {
     "name": "stdout",
     "output_type": "stream",
     "text": [
      "90 topic coherence model\n",
      "index of 90 found: 16\n",
      "idx: 16\n",
      "cv: 0.4612845277602373\n",
      "model: LdaModel(num_terms=9441, num_topics=90, decay=0.5, chunksize=2000)\n",
      "num_topics: 90\n"
     ]
    }
   ],
   "source": [
    "print('90 topic coherence model')\n",
    "ninety_idx = 0\n",
    "for i in all_models_list:\n",
    "    if i.num_topics == 90:\n",
    "        print('index of 90 found: {}'.format(ninety_idx))\n",
    "        break\n",
    "    ninety_idx += 1\n",
    "\n",
    "\n",
    "ninety_coherence_value = all_coherence_values[ninety_idx]\n",
    "ninety_coherence_model = all_models_list[ninety_idx]\n",
    "ninety_num_topics = ninety_coherence_model.num_topics\n",
    "\n",
    "print('idx: {}'.format(ninety_idx))\n",
    "print('cv: {}'.format(ninety_coherence_value))\n",
    "print('model: {}'.format(ninety_coherence_model))\n",
    "print('num_topics: {}'.format(ninety_num_topics))"
   ]
  },
  {
   "cell_type": "code",
   "execution_count": 98,
   "metadata": {},
   "outputs": [],
   "source": [
    "### save 40 and 90 topic models\n",
    "path = '/Users/richardkuzma/coding/analysis/monster/models/'\n",
    "\n",
    "filename = 'monster_jobs_LDA_40_topics_cv_zero476.pkl'\n",
    "with open(path+filename, 'wb') as f:\n",
    "    pickle.dump(best_coherence_model, f)\n",
    "    \n",
    "filename = 'monster_jobs_LDA_90_topics_cv_zero461.pkl'\n",
    "with open(path+filename, 'wb') as f:\n",
    "    pickle.dump(ninety_coherence_model, f)"
   ]
  },
  {
   "cell_type": "markdown",
   "metadata": {},
   "source": [
    "### Pick best models (perplexity)\n",
    "- "
   ]
  },
  {
   "cell_type": "code",
   "execution_count": 88,
   "metadata": {},
   "outputs": [
    {
     "name": "stdout",
     "output_type": "stream",
     "text": [
      "[-7.353080298860728,\n",
      " -7.2500859851675585,\n",
      " -7.189505216938566,\n",
      " -7.133448350948939,\n",
      " -7.137424574309907,\n",
      " -7.262435814523401,\n",
      " -7.29577336655376,\n",
      " -7.338961625838196,\n",
      " -7.390738103953693,\n",
      " -7.445171118704983,\n",
      " -7.50504603056342,\n",
      " -7.583116248143664,\n",
      " -7.6298817555321055,\n",
      " -7.773173047890227,\n",
      " -7.9204269462569075,\n",
      " -8.036359320350192,\n",
      " -8.163078887280552,\n",
      " -8.320657360555696]\n"
     ]
    }
   ],
   "source": [
    "pprint(all_perplex_values)"
   ]
  },
  {
   "cell_type": "code",
   "execution_count": 101,
   "metadata": {},
   "outputs": [
    {
     "name": "stdout",
     "output_type": "stream",
     "text": [
      "Best perplexity model\n",
      "idx: 3\n",
      "perplexity: -7.133448350948939\n",
      "model: LdaModel(num_terms=9441, num_topics=8, decay=0.5, chunksize=2000)\n",
      "num_topics: 8\n"
     ]
    }
   ],
   "source": [
    "# pick the best\n",
    "print('Best perplexity model')\n",
    "best_perplexity_value = min(all_perplex_values, key=abs)\n",
    "best_perplexity_index = all_perplex_values.index(best_perplexity_value)\n",
    "best_perplexity_model = all_models_list[best_perplexity_index]\n",
    "best_perplexity_num_topics = best_perplexity_model.num_topics\n",
    "\n",
    "print('idx: {}'.format(best_perplexity_index))\n",
    "print('perplexity: {}'.format(best_perplexity_value))\n",
    "print('model: {}'.format(best_perplexity_model))\n",
    "print('num_topics: {}'.format(best_perplexity_num_topics))\n"
   ]
  },
  {
   "cell_type": "code",
   "execution_count": 102,
   "metadata": {},
   "outputs": [],
   "source": [
    "### save best perplexity model (8 topics)\n",
    "path = '/Users/richardkuzma/coding/analysis/monster/models/'\n",
    "\n",
    "filename = 'monster_jobs_LDA_8_topics_best_perplexity.pkl'\n",
    "with open(path+filename, 'wb') as f:\n",
    "    pickle.dump(best_perplexity_model, f)"
   ]
  },
  {
   "cell_type": "code",
   "execution_count": null,
   "metadata": {},
   "outputs": [],
   "source": []
  }
 ],
 "metadata": {
  "kernelspec": {
   "display_name": "Python 3",
   "language": "python",
   "name": "python3"
  },
  "language_info": {
   "codemirror_mode": {
    "name": "ipython",
    "version": 3
   },
   "file_extension": ".py",
   "mimetype": "text/x-python",
   "name": "python",
   "nbconvert_exporter": "python",
   "pygments_lexer": "ipython3",
   "version": "3.7.6"
  }
 },
 "nbformat": 4,
 "nbformat_minor": 4
}
