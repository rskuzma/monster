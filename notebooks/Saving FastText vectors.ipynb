{
 "cells": [
  {
   "cell_type": "markdown",
   "metadata": {},
   "source": [
    "# Saving and loading FastText vectors\n",
    "- Richard Kuzma, 10SEP2020"
   ]
  },
  {
   "cell_type": "markdown",
   "metadata": {},
   "source": [
    "## Load LDA models"
   ]
  },
  {
   "cell_type": "code",
   "execution_count": 1,
   "metadata": {},
   "outputs": [],
   "source": [
    "### Imports\n",
    "\n",
    "# basic\n",
    "from pprint import pprint\n",
    "import pickle\n",
    "\n",
    "# data science\n",
    "import pandas as pd\n",
    "\n",
    "# NLP\n",
    "import gensim\n",
    "from gensim.models import CoherenceModel, LdaModel\n",
    "\n",
    "# plotting\n",
    "import pyLDAvis\n",
    "import pyLDAvis.gensim\n",
    "import matplotlib.pyplot as plt\n",
    "%matplotlib inline\n",
    "\n",
    "# ignore depreciation warning\n",
    "import warnings\n",
    "warnings.filterwarnings(\"ignore\", category=DeprecationWarning) \n"
   ]
  },
  {
   "cell_type": "markdown",
   "metadata": {},
   "source": [
    "# the help from interwebs\n",
    "- FastText vectors available for download here: https://fasttext.cc/docs/en/english-vectors.html\n",
    "    - I chose #2: wiki-news-300d-1M-subword.vec.zip: 1 million word vectors trained with subword infomation on Wikipedia 2017, UMBC webbase corpus and statmt.org news dataset (16B tokens).\n",
    "- Converting to binary from a vec\n",
    "    - https://github.com/facebookresearch/fastText/issues/171#issuecomment-294295302"
   ]
  },
  {
   "cell_type": "code",
   "execution_count": 3,
   "metadata": {},
   "outputs": [],
   "source": [
    "path = '/Users/richardkuzma/coding/analysis/utils/'\n",
    "dictFileName = 'wiki-news-300d-1M-subword.vec'\n"
   ]
  },
  {
   "cell_type": "code",
   "execution_count": 4,
   "metadata": {},
   "outputs": [],
   "source": [
    "embedding_dict = gensim.models.KeyedVectors.load_word2vec_format(path+dictFileName, binary=False)\n",
    "embedding_dict.save_word2vec_format(path+dictFileName+\".bin\", binary=True)\n",
    "embedding_dict = gensim.models.KeyedVectors.load_word2vec_format(path+dictFileName+\".bin\", binary=True)"
   ]
  },
  {
   "cell_type": "code",
   "execution_count": null,
   "metadata": {},
   "outputs": [],
   "source": []
  }
 ],
 "metadata": {
  "kernelspec": {
   "display_name": "Python 3",
   "language": "python",
   "name": "python3"
  },
  "language_info": {
   "codemirror_mode": {
    "name": "ipython",
    "version": 3
   },
   "file_extension": ".py",
   "mimetype": "text/x-python",
   "name": "python",
   "nbconvert_exporter": "python",
   "pygments_lexer": "ipython3",
   "version": "3.7.6"
  }
 },
 "nbformat": 4,
 "nbformat_minor": 4
}
